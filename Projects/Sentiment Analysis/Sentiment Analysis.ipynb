{
 "cells": [
  {
   "cell_type": "markdown",
   "metadata": {},
   "source": [
    "---\n",
    "\n",
    "_You are currently looking at **version 1.0** of this notebook. To download notebooks and datafiles, as well as get help on Jupyter notebooks in the Coursera platform, visit the [Jupyter Notebook FAQ](https://www.coursera.org/learn/python-text-mining/resources/d9pwm) course resource._\n",
    "\n",
    "---"
   ]
  },
  {
   "cell_type": "markdown",
   "metadata": {},
   "source": [
    "*Note: Some of the cells in this notebook are computationally expensive. To reduce runtime, this notebook is using a subset of the data.*"
   ]
  },
  {
   "cell_type": "markdown",
   "metadata": {},
   "source": [
    "# Case Study: Sentiment Analysis"
   ]
  },
  {
   "cell_type": "markdown",
   "metadata": {},
   "source": [
    "### Data Prep"
   ]
  },
  {
   "cell_type": "code",
   "execution_count": 33,
   "metadata": {},
   "outputs": [
    {
     "data": {
      "text/html": [
       "<div>\n",
       "<style scoped>\n",
       "    .dataframe tbody tr th:only-of-type {\n",
       "        vertical-align: middle;\n",
       "    }\n",
       "\n",
       "    .dataframe tbody tr th {\n",
       "        vertical-align: top;\n",
       "    }\n",
       "\n",
       "    .dataframe thead th {\n",
       "        text-align: right;\n",
       "    }\n",
       "</style>\n",
       "<table border=\"1\" class=\"dataframe\">\n",
       "  <thead>\n",
       "    <tr style=\"text-align: right;\">\n",
       "      <th></th>\n",
       "      <th>Unnamed: 0</th>\n",
       "      <th>Product Name</th>\n",
       "      <th>Brand Name</th>\n",
       "      <th>Price</th>\n",
       "      <th>Rating</th>\n",
       "      <th>Reviews</th>\n",
       "      <th>Review Votes</th>\n",
       "    </tr>\n",
       "  </thead>\n",
       "  <tbody>\n",
       "    <tr>\n",
       "      <th>8841</th>\n",
       "      <td>111936</td>\n",
       "      <td>BLU Dash JR 4.0 K Smartphone - Unlocked - White</td>\n",
       "      <td>BLU</td>\n",
       "      <td>43.95</td>\n",
       "      <td>5</td>\n",
       "      <td>Excelente!!!</td>\n",
       "      <td>0.0</td>\n",
       "    </tr>\n",
       "    <tr>\n",
       "      <th>32237</th>\n",
       "      <td>31957</td>\n",
       "      <td>Apple iPhone 5c 32GB (Pink) - Verizon Wireless</td>\n",
       "      <td>Apple</td>\n",
       "      <td>159.99</td>\n",
       "      <td>5</td>\n",
       "      <td>It was sent to me promptly . I am very happy w...</td>\n",
       "      <td>3.0</td>\n",
       "    </tr>\n",
       "    <tr>\n",
       "      <th>28177</th>\n",
       "      <td>65658</td>\n",
       "      <td>Apple iPhone 6s 16 GB International Warranty U...</td>\n",
       "      <td>Amazon.com, LLC *** KEEP PORules ACTIVE ***</td>\n",
       "      <td>540.00</td>\n",
       "      <td>5</td>\n",
       "      <td>Good condition as posted. Very pleased!</td>\n",
       "      <td>0.0</td>\n",
       "    </tr>\n",
       "    <tr>\n",
       "      <th>6928</th>\n",
       "      <td>277272</td>\n",
       "      <td>Nokia N9 16 GB Unlocked GSM Phone with MeeGo O...</td>\n",
       "      <td>Nokia</td>\n",
       "      <td>149.00</td>\n",
       "      <td>5</td>\n",
       "      <td>this phone is amazing! everything i ever wante...</td>\n",
       "      <td>4.0</td>\n",
       "    </tr>\n",
       "    <tr>\n",
       "      <th>10916</th>\n",
       "      <td>41081</td>\n",
       "      <td>Apple iPhone 5S 16GB Factory Unlocked GSM Cell...</td>\n",
       "      <td>Apple</td>\n",
       "      <td>265.00</td>\n",
       "      <td>5</td>\n",
       "      <td>Just what I wanted.</td>\n",
       "      <td>0.0</td>\n",
       "    </tr>\n",
       "  </tbody>\n",
       "</table>\n",
       "</div>"
      ],
      "text/plain": [
       "       Unnamed: 0                                       Product Name  \\\n",
       "8841       111936    BLU Dash JR 4.0 K Smartphone - Unlocked - White   \n",
       "32237       31957     Apple iPhone 5c 32GB (Pink) - Verizon Wireless   \n",
       "28177       65658  Apple iPhone 6s 16 GB International Warranty U...   \n",
       "6928       277272  Nokia N9 16 GB Unlocked GSM Phone with MeeGo O...   \n",
       "10916       41081  Apple iPhone 5S 16GB Factory Unlocked GSM Cell...   \n",
       "\n",
       "                                        Brand Name   Price  Rating  \\\n",
       "8841                                           BLU   43.95       5   \n",
       "32237                                        Apple  159.99       5   \n",
       "28177  Amazon.com, LLC *** KEEP PORules ACTIVE ***  540.00       5   \n",
       "6928                                         Nokia  149.00       5   \n",
       "10916                                        Apple  265.00       5   \n",
       "\n",
       "                                                 Reviews  Review Votes  \n",
       "8841                                        Excelente!!!           0.0  \n",
       "32237  It was sent to me promptly . I am very happy w...           3.0  \n",
       "28177            Good condition as posted. Very pleased!           0.0  \n",
       "6928   this phone is amazing! everything i ever wante...           4.0  \n",
       "10916                                Just what I wanted.           0.0  "
      ]
     },
     "execution_count": 33,
     "metadata": {},
     "output_type": "execute_result"
    }
   ],
   "source": [
    "import pandas as pd\n",
    "import numpy as np\n",
    "\n",
    "# Read in the data\n",
    "df = pd.read_csv('Amazon_Unlocked_Mobile.csv')\n",
    "\n",
    "# Sample the data to speed up computation\n",
    "# Comment out this line to match with lecture\n",
    "df = df.sample(frac=0.1, random_state=10)\n",
    "\n",
    "df.head()"
   ]
  },
  {
   "cell_type": "code",
   "execution_count": 34,
   "metadata": {},
   "outputs": [
    {
     "data": {
      "text/html": [
       "<div>\n",
       "<style scoped>\n",
       "    .dataframe tbody tr th:only-of-type {\n",
       "        vertical-align: middle;\n",
       "    }\n",
       "\n",
       "    .dataframe tbody tr th {\n",
       "        vertical-align: top;\n",
       "    }\n",
       "\n",
       "    .dataframe thead th {\n",
       "        text-align: right;\n",
       "    }\n",
       "</style>\n",
       "<table border=\"1\" class=\"dataframe\">\n",
       "  <thead>\n",
       "    <tr style=\"text-align: right;\">\n",
       "      <th></th>\n",
       "      <th>Unnamed: 0</th>\n",
       "      <th>Product Name</th>\n",
       "      <th>Brand Name</th>\n",
       "      <th>Price</th>\n",
       "      <th>Rating</th>\n",
       "      <th>Reviews</th>\n",
       "      <th>Review Votes</th>\n",
       "      <th>Positively Rated</th>\n",
       "    </tr>\n",
       "  </thead>\n",
       "  <tbody>\n",
       "    <tr>\n",
       "      <th>8841</th>\n",
       "      <td>111936</td>\n",
       "      <td>BLU Dash JR 4.0 K Smartphone - Unlocked - White</td>\n",
       "      <td>BLU</td>\n",
       "      <td>43.95</td>\n",
       "      <td>5</td>\n",
       "      <td>Excelente!!!</td>\n",
       "      <td>0.0</td>\n",
       "      <td>1</td>\n",
       "    </tr>\n",
       "    <tr>\n",
       "      <th>32237</th>\n",
       "      <td>31957</td>\n",
       "      <td>Apple iPhone 5c 32GB (Pink) - Verizon Wireless</td>\n",
       "      <td>Apple</td>\n",
       "      <td>159.99</td>\n",
       "      <td>5</td>\n",
       "      <td>It was sent to me promptly . I am very happy w...</td>\n",
       "      <td>3.0</td>\n",
       "      <td>1</td>\n",
       "    </tr>\n",
       "    <tr>\n",
       "      <th>28177</th>\n",
       "      <td>65658</td>\n",
       "      <td>Apple iPhone 6s 16 GB International Warranty U...</td>\n",
       "      <td>Amazon.com, LLC *** KEEP PORules ACTIVE ***</td>\n",
       "      <td>540.00</td>\n",
       "      <td>5</td>\n",
       "      <td>Good condition as posted. Very pleased!</td>\n",
       "      <td>0.0</td>\n",
       "      <td>1</td>\n",
       "    </tr>\n",
       "    <tr>\n",
       "      <th>6928</th>\n",
       "      <td>277272</td>\n",
       "      <td>Nokia N9 16 GB Unlocked GSM Phone with MeeGo O...</td>\n",
       "      <td>Nokia</td>\n",
       "      <td>149.00</td>\n",
       "      <td>5</td>\n",
       "      <td>this phone is amazing! everything i ever wante...</td>\n",
       "      <td>4.0</td>\n",
       "      <td>1</td>\n",
       "    </tr>\n",
       "    <tr>\n",
       "      <th>10916</th>\n",
       "      <td>41081</td>\n",
       "      <td>Apple iPhone 5S 16GB Factory Unlocked GSM Cell...</td>\n",
       "      <td>Apple</td>\n",
       "      <td>265.00</td>\n",
       "      <td>5</td>\n",
       "      <td>Just what I wanted.</td>\n",
       "      <td>0.0</td>\n",
       "      <td>1</td>\n",
       "    </tr>\n",
       "    <tr>\n",
       "      <th>27493</th>\n",
       "      <td>140487</td>\n",
       "      <td>BLU Studio 5.0 HD Unlocked Cellphone, White</td>\n",
       "      <td>BLU</td>\n",
       "      <td>119.99</td>\n",
       "      <td>5</td>\n",
       "      <td>Excellent option, with a great relationship be...</td>\n",
       "      <td>0.0</td>\n",
       "      <td>1</td>\n",
       "    </tr>\n",
       "    <tr>\n",
       "      <th>11531</th>\n",
       "      <td>410339</td>\n",
       "      <td>Vivo 4.8 HD Quad Band Unlocked (Yellow)</td>\n",
       "      <td>BLU</td>\n",
       "      <td>236.28</td>\n",
       "      <td>4</td>\n",
       "      <td>I bought this phone as I was searching for a w...</td>\n",
       "      <td>3.0</td>\n",
       "      <td>1</td>\n",
       "    </tr>\n",
       "    <tr>\n",
       "      <th>22229</th>\n",
       "      <td>200775</td>\n",
       "      <td>Huawei Mate 2 - Factory Unlocked (Black)</td>\n",
       "      <td>Huawei</td>\n",
       "      <td>229.99</td>\n",
       "      <td>5</td>\n",
       "      <td>Phone is great,I love it!</td>\n",
       "      <td>1.0</td>\n",
       "      <td>1</td>\n",
       "    </tr>\n",
       "    <tr>\n",
       "      <th>14564</th>\n",
       "      <td>220277</td>\n",
       "      <td>LG G3 D855 32GB LTE Unlocked GSM Android Smart...</td>\n",
       "      <td>LG</td>\n",
       "      <td>210.95</td>\n",
       "      <td>5</td>\n",
       "      <td>I'm in the US and use this on a GSM network (T...</td>\n",
       "      <td>0.0</td>\n",
       "      <td>1</td>\n",
       "    </tr>\n",
       "    <tr>\n",
       "      <th>5479</th>\n",
       "      <td>90003</td>\n",
       "      <td>Blackberry Bold Touch 9930 CDMA GSM Unlocked P...</td>\n",
       "      <td>BlackBerry</td>\n",
       "      <td>104.95</td>\n",
       "      <td>5</td>\n",
       "      <td>Good little blackberry. The touch screen is co...</td>\n",
       "      <td>0.0</td>\n",
       "      <td>1</td>\n",
       "    </tr>\n",
       "  </tbody>\n",
       "</table>\n",
       "</div>"
      ],
      "text/plain": [
       "       Unnamed: 0                                       Product Name  \\\n",
       "8841       111936    BLU Dash JR 4.0 K Smartphone - Unlocked - White   \n",
       "32237       31957     Apple iPhone 5c 32GB (Pink) - Verizon Wireless   \n",
       "28177       65658  Apple iPhone 6s 16 GB International Warranty U...   \n",
       "6928       277272  Nokia N9 16 GB Unlocked GSM Phone with MeeGo O...   \n",
       "10916       41081  Apple iPhone 5S 16GB Factory Unlocked GSM Cell...   \n",
       "27493      140487        BLU Studio 5.0 HD Unlocked Cellphone, White   \n",
       "11531      410339            Vivo 4.8 HD Quad Band Unlocked (Yellow)   \n",
       "22229      200775           Huawei Mate 2 - Factory Unlocked (Black)   \n",
       "14564      220277  LG G3 D855 32GB LTE Unlocked GSM Android Smart...   \n",
       "5479        90003  Blackberry Bold Touch 9930 CDMA GSM Unlocked P...   \n",
       "\n",
       "                                        Brand Name   Price  Rating  \\\n",
       "8841                                           BLU   43.95       5   \n",
       "32237                                        Apple  159.99       5   \n",
       "28177  Amazon.com, LLC *** KEEP PORules ACTIVE ***  540.00       5   \n",
       "6928                                         Nokia  149.00       5   \n",
       "10916                                        Apple  265.00       5   \n",
       "27493                                          BLU  119.99       5   \n",
       "11531                                          BLU  236.28       4   \n",
       "22229                                       Huawei  229.99       5   \n",
       "14564                                           LG  210.95       5   \n",
       "5479                                    BlackBerry  104.95       5   \n",
       "\n",
       "                                                 Reviews  Review Votes  \\\n",
       "8841                                        Excelente!!!           0.0   \n",
       "32237  It was sent to me promptly . I am very happy w...           3.0   \n",
       "28177            Good condition as posted. Very pleased!           0.0   \n",
       "6928   this phone is amazing! everything i ever wante...           4.0   \n",
       "10916                                Just what I wanted.           0.0   \n",
       "27493  Excellent option, with a great relationship be...           0.0   \n",
       "11531  I bought this phone as I was searching for a w...           3.0   \n",
       "22229                          Phone is great,I love it!           1.0   \n",
       "14564  I'm in the US and use this on a GSM network (T...           0.0   \n",
       "5479   Good little blackberry. The touch screen is co...           0.0   \n",
       "\n",
       "       Positively Rated  \n",
       "8841                  1  \n",
       "32237                 1  \n",
       "28177                 1  \n",
       "6928                  1  \n",
       "10916                 1  \n",
       "27493                 1  \n",
       "11531                 1  \n",
       "22229                 1  \n",
       "14564                 1  \n",
       "5479                  1  "
      ]
     },
     "execution_count": 34,
     "metadata": {},
     "output_type": "execute_result"
    }
   ],
   "source": [
    "# Drop missing values\n",
    "df.dropna(inplace=True)\n",
    "\n",
    "# Remove any 'neutral' ratings equal to 3\n",
    "df = df[df['Rating'] != 3]\n",
    "\n",
    "# Encode 4s and 5s as 1 (rated positively)\n",
    "# Encode 1s and 2s as 0 (rated poorly)\n",
    "df['Positively Rated'] = np.where(df['Rating'] > 3, 1, 0)\n",
    "df.head(10)"
   ]
  },
  {
   "cell_type": "code",
   "execution_count": 35,
   "metadata": {},
   "outputs": [
    {
     "data": {
      "text/plain": [
       "0.7510548523206751"
      ]
     },
     "execution_count": 35,
     "metadata": {},
     "output_type": "execute_result"
    }
   ],
   "source": [
    "# Most ratings are positive\n",
    "df['Positively Rated'].mean()"
   ]
  },
  {
   "cell_type": "code",
   "execution_count": 36,
   "metadata": {},
   "outputs": [],
   "source": [
    "from sklearn.model_selection import train_test_split\n",
    "\n",
    "# Split data into training and test sets\n",
    "X_train, X_test, y_train, y_test = train_test_split(df['Reviews'], \n",
    "                                                    df['Positively Rated'], \n",
    "                                                    random_state=0)"
   ]
  },
  {
   "cell_type": "code",
   "execution_count": 37,
   "metadata": {},
   "outputs": [
    {
     "name": "stdout",
     "output_type": "stream",
     "text": [
      "X_train first entry:\n",
      "\n",
      " suddenly, PHONE died after 5 months. it is not starting or accepting charging.. no way to fix this issue until date and workaround available from blu or on the internet . This phone has built in battery therefore you will not be able to remove battery to reset cell...other freiend has same cell has another problem, the cell stuck in vibration mode while charging and no option to solve this one too.. I would not recommend this phone due to these problems.\n",
      "\n",
      "\n",
      "X_train shape:  (2310,)\n"
     ]
    }
   ],
   "source": [
    "print('X_train first entry:\\n\\n', X_train.iloc[0])\n",
    "print('\\n\\nX_train shape: ', X_train.shape)"
   ]
  },
  {
   "cell_type": "markdown",
   "metadata": {},
   "source": [
    "# CountVectorizer"
   ]
  },
  {
   "cell_type": "code",
   "execution_count": 38,
   "metadata": {},
   "outputs": [],
   "source": [
    "from sklearn.feature_extraction.text import CountVectorizer\n",
    "\n",
    "# Fit the CountVectorizer to the training data\n",
    "vect = CountVectorizer().fit(X_train)"
   ]
  },
  {
   "cell_type": "code",
   "execution_count": 39,
   "metadata": {
    "scrolled": false
   },
   "outputs": [
    {
     "data": {
      "text/plain": [
       "['00', 'exelente', 'pod', 'withs']"
      ]
     },
     "execution_count": 39,
     "metadata": {},
     "output_type": "execute_result"
    }
   ],
   "source": [
    "vect.get_feature_names()[::2000]"
   ]
  },
  {
   "cell_type": "code",
   "execution_count": 40,
   "metadata": {},
   "outputs": [
    {
     "data": {
      "text/plain": [
       "6129"
      ]
     },
     "execution_count": 40,
     "metadata": {},
     "output_type": "execute_result"
    }
   ],
   "source": [
    "len(vect.get_feature_names())"
   ]
  },
  {
   "cell_type": "code",
   "execution_count": 41,
   "metadata": {},
   "outputs": [
    {
     "data": {
      "text/plain": [
       "<2310x6129 sparse matrix of type '<class 'numpy.int64'>'\n",
       "\twith 60910 stored elements in Compressed Sparse Row format>"
      ]
     },
     "execution_count": 41,
     "metadata": {},
     "output_type": "execute_result"
    }
   ],
   "source": [
    "# transform the documents in the training data to a document-term matrix\n",
    "X_train_vectorized = vect.transform(X_train)\n",
    "\n",
    "X_train_vectorized"
   ]
  },
  {
   "cell_type": "code",
   "execution_count": 42,
   "metadata": {},
   "outputs": [
    {
     "data": {
      "text/plain": [
       "LogisticRegression(C=1.0, class_weight=None, dual=False, fit_intercept=True,\n",
       "                   intercept_scaling=1, l1_ratio=None, max_iter=500,\n",
       "                   multi_class='auto', n_jobs=None, penalty='l2',\n",
       "                   random_state=None, solver='lbfgs', tol=0.0001, verbose=0,\n",
       "                   warm_start=False)"
      ]
     },
     "execution_count": 42,
     "metadata": {},
     "output_type": "execute_result"
    }
   ],
   "source": [
    "from sklearn.linear_model import LogisticRegression\n",
    "\n",
    "# Train the model\n",
    "model = LogisticRegression(max_iter=500)\n",
    "model.fit(X_train_vectorized, y_train)"
   ]
  },
  {
   "cell_type": "code",
   "execution_count": 43,
   "metadata": {},
   "outputs": [
    {
     "name": "stdout",
     "output_type": "stream",
     "text": [
      "AUC:  0.8181818181818183\n"
     ]
    }
   ],
   "source": [
    "from sklearn.metrics import roc_auc_score\n",
    "\n",
    "# Predict the transformed test documents\n",
    "predictions = model.predict(vect.transform(X_test))\n",
    "\n",
    "print('AUC: ', roc_auc_score(y_test, predictions))"
   ]
  },
  {
   "cell_type": "code",
   "execution_count": 44,
   "metadata": {
    "scrolled": true
   },
   "outputs": [
    {
     "name": "stdout",
     "output_type": "stream",
     "text": [
      "Smallest Coefs:\n",
      "['bad' 'not' 'sucks' 'disappointed' 'sprint' 'work' 'horrible' 'months'\n",
      " 'poor' 'doesn']\n",
      "\n",
      "Largest Coefs: \n",
      "['love' 'great' 'excellent' 'perfect' 'excelente' 'nice' 'excelent' 'good'\n",
      " 'thanks' 'awesome']\n"
     ]
    }
   ],
   "source": [
    "# get the feature names as numpy array\n",
    "feature_names = np.array(vect.get_feature_names())\n",
    "\n",
    "# Sort the coefficients from the model\n",
    "sorted_coef_index = model.coef_[0].argsort()\n",
    "\n",
    "# Find the 10 smallest and 10 largest coefficients\n",
    "# The 10 largest coefficients are being indexed using [:-11:-1] \n",
    "# so the list returned is in order of largest to smallest\n",
    "print('Smallest Coefs:\\n{}\\n'.format(feature_names[sorted_coef_index[:10]]))\n",
    "print('Largest Coefs: \\n{}'.format(feature_names[sorted_coef_index[:-11:-1]]))"
   ]
  },
  {
   "cell_type": "markdown",
   "metadata": {},
   "source": [
    "# Tfidf"
   ]
  },
  {
   "cell_type": "code",
   "execution_count": 45,
   "metadata": {},
   "outputs": [
    {
     "data": {
      "text/plain": [
       "1533"
      ]
     },
     "execution_count": 45,
     "metadata": {},
     "output_type": "execute_result"
    }
   ],
   "source": [
    "from sklearn.feature_extraction.text import TfidfVectorizer\n",
    "\n",
    "# Fit the TfidfVectorizer to the training data specifiying a minimum document frequency of 5\n",
    "vect = TfidfVectorizer(min_df=5).fit(X_train)\n",
    "len(vect.get_feature_names())"
   ]
  },
  {
   "cell_type": "code",
   "execution_count": 46,
   "metadata": {},
   "outputs": [
    {
     "name": "stdout",
     "output_type": "stream",
     "text": [
      "AUC:  0.7637000254647313\n"
     ]
    }
   ],
   "source": [
    "X_train_vectorized = vect.transform(X_train)\n",
    "\n",
    "model = LogisticRegression()\n",
    "model.fit(X_train_vectorized, y_train)\n",
    "\n",
    "predictions = model.predict(vect.transform(X_test))\n",
    "\n",
    "print('AUC: ', roc_auc_score(y_test, predictions))"
   ]
  },
  {
   "cell_type": "code",
   "execution_count": 47,
   "metadata": {},
   "outputs": [
    {
     "name": "stdout",
     "output_type": "stream",
     "text": [
      "Smallest tfidf:\n",
      "['prefer' 'pc' 'disabled' 'stylus' 'become' 'manually' 'manager' 'laptop'\n",
      " '40' 'media']\n",
      "\n",
      "Largest tfidf: \n",
      "['good' 'junk' 'as' 'fantastic' 'satisfied' 'top' 'bien' 'wonderful'\n",
      " 'awesome' 'exelente']\n"
     ]
    }
   ],
   "source": [
    "feature_names = np.array(vect.get_feature_names())\n",
    "\n",
    "sorted_tfidf_index = X_train_vectorized.max(0).toarray()[0].argsort()\n",
    "\n",
    "print('Smallest tfidf:\\n{}\\n'.format(feature_names[sorted_tfidf_index[:10]]))\n",
    "print('Largest tfidf: \\n{}'.format(feature_names[sorted_tfidf_index[:-11:-1]]))"
   ]
  },
  {
   "cell_type": "code",
   "execution_count": 48,
   "metadata": {},
   "outputs": [
    {
     "name": "stdout",
     "output_type": "stream",
     "text": [
      "Smallest Coefs:\n",
      "['not' 'bad' 'disappointed' 'work' 'after' 'months' 'return' 'sucks'\n",
      " 'didn' 'off']\n",
      "\n",
      "Largest Coefs: \n",
      "['great' 'love' 'good' 'excellent' 'perfect' 'nice' 'price' 'excelente'\n",
      " 'works' 'as']\n"
     ]
    }
   ],
   "source": [
    "sorted_coef_index = model.coef_[0].argsort()\n",
    "\n",
    "print('Smallest Coefs:\\n{}\\n'.format(feature_names[sorted_coef_index[:10]]))\n",
    "print('Largest Coefs: \\n{}'.format(feature_names[sorted_coef_index[:-11:-1]]))"
   ]
  },
  {
   "cell_type": "code",
   "execution_count": 49,
   "metadata": {},
   "outputs": [
    {
     "name": "stdout",
     "output_type": "stream",
     "text": [
      "[0 0]\n"
     ]
    }
   ],
   "source": [
    "# These reviews are treated the same by our current model\n",
    "print(model.predict(vect.transform(['not an issue, phone is working',\n",
    "                                    'an issue, phone is not working'])))"
   ]
  },
  {
   "cell_type": "markdown",
   "metadata": {},
   "source": [
    "# n-grams"
   ]
  },
  {
   "cell_type": "code",
   "execution_count": 50,
   "metadata": {},
   "outputs": [
    {
     "data": {
      "text/plain": [
       "3732"
      ]
     },
     "execution_count": 50,
     "metadata": {},
     "output_type": "execute_result"
    }
   ],
   "source": [
    "# Fit the CountVectorizer to the training data specifiying a minimum \n",
    "# document frequency of 5 and extracting 1-grams and 2-grams\n",
    "vect = CountVectorizer(min_df=5, ngram_range=(1,2)).fit(X_train)\n",
    "\n",
    "X_train_vectorized = vect.transform(X_train)\n",
    "\n",
    "len(vect.get_feature_names())"
   ]
  },
  {
   "cell_type": "code",
   "execution_count": 51,
   "metadata": {},
   "outputs": [
    {
     "name": "stdout",
     "output_type": "stream",
     "text": [
      "AUC:  0.8247262541380188\n"
     ]
    }
   ],
   "source": [
    "model = LogisticRegression(max_iter=500)\n",
    "model.fit(X_train_vectorized, y_train)\n",
    "\n",
    "predictions = model.predict(vect.transform(X_test))\n",
    "\n",
    "print('AUC: ', roc_auc_score(y_test, predictions))"
   ]
  },
  {
   "cell_type": "code",
   "execution_count": 52,
   "metadata": {},
   "outputs": [
    {
     "name": "stdout",
     "output_type": "stream",
     "text": [
      "Smallest Coefs:\n",
      "['bad' 'not' 'sucks' 'not good' 'sprint' 'work' 'poor' 'disappointed'\n",
      " 'didn' 'doesn']\n",
      "\n",
      "Largest Coefs: \n",
      "['love' 'great' 'excellent' 'perfect' 'excelente' 'nice' 'good' 'excelent'\n",
      " 'thanks' 'awesome']\n"
     ]
    }
   ],
   "source": [
    "feature_names = np.array(vect.get_feature_names())\n",
    "\n",
    "sorted_coef_index = model.coef_[0].argsort()\n",
    "\n",
    "print('Smallest Coefs:\\n{}\\n'.format(feature_names[sorted_coef_index[:10]]))\n",
    "print('Largest Coefs: \\n{}'.format(feature_names[sorted_coef_index[:-11:-1]]))"
   ]
  },
  {
   "cell_type": "code",
   "execution_count": 53,
   "metadata": {},
   "outputs": [
    {
     "name": "stdout",
     "output_type": "stream",
     "text": [
      "[1 0]\n"
     ]
    }
   ],
   "source": [
    "# These reviews are now correctly identified\n",
    "print(model.predict(vect.transform(['not an issue, phone is working',\n",
    "                                    'an issue, phone is not working'])))"
   ]
  }
 ],
 "metadata": {
  "kernelspec": {
   "display_name": "Python 3",
   "language": "python",
   "name": "python3"
  },
  "language_info": {
   "codemirror_mode": {
    "name": "ipython",
    "version": 3
   },
   "file_extension": ".py",
   "mimetype": "text/x-python",
   "name": "python",
   "nbconvert_exporter": "python",
   "pygments_lexer": "ipython3",
   "version": "3.7.4"
  },
  "toc": {
   "base_numbering": 1,
   "nav_menu": {},
   "number_sections": true,
   "sideBar": true,
   "skip_h1_title": false,
   "title_cell": "Table of Contents",
   "title_sidebar": "Contents",
   "toc_cell": false,
   "toc_position": {},
   "toc_section_display": true,
   "toc_window_display": false
  }
 },
 "nbformat": 4,
 "nbformat_minor": 2
}
